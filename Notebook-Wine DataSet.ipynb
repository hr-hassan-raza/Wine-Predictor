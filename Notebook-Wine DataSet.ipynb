{
 "cells": [
  {
   "cell_type": "markdown",
   "metadata": {},
   "source": [
    "# Wine sophistication predictor"
   ]
  },
  {
   "cell_type": "markdown",
   "metadata": {},
   "source": [
    "### Abstract"
   ]
  },
  {
   "cell_type": "markdown",
   "metadata": {},
   "source": [
    "In this class we are going to build a predictor which is able to help against wine\n",
    "sophistications. In other words, we would like to train a model based on neural\n",
    "networks such that it is able to discriminate if a given bottle of wine really\n",
    "comes from that precise region or not on the basis of the analysis of its chemical\n",
    "data."
   ]
  },
  {
   "cell_type": "markdown",
   "metadata": {},
   "source": [
    "### Importing Libraries"
   ]
  },
  {
   "cell_type": "code",
   "execution_count": 1,
   "metadata": {},
   "outputs": [],
   "source": [
    "import pandas as pd\n",
    "from sklearn.model_selection import train_test_split\n",
    "import numpy as np\n",
    "from sklearn.preprocessing import StandardScaler\n",
    "from sklearn.neural_network import MLPClassifier\n",
    "from sklearn.datasets import make_classification\n",
    "from sklearn.metrics import confusion_matrix\n",
    "import matplotlib.pyplot as plt\n",
    "from sklearn.metrics import accuracy_score\n",
    "import seaborn as sns\n",
    "from sklearn.metrics import classification_report\n",
    "import warnings\n",
    "warnings.filterwarnings(\"ignore\")"
   ]
  },
  {
   "cell_type": "markdown",
   "metadata": {},
   "source": [
    "### Getting data and setup"
   ]
  },
  {
   "cell_type": "code",
   "execution_count": 2,
   "metadata": {},
   "outputs": [
    {
     "data": {
      "text/html": [
       "<div>\n",
       "<style scoped>\n",
       "    .dataframe tbody tr th:only-of-type {\n",
       "        vertical-align: middle;\n",
       "    }\n",
       "\n",
       "    .dataframe tbody tr th {\n",
       "        vertical-align: top;\n",
       "    }\n",
       "\n",
       "    .dataframe thead th {\n",
       "        text-align: right;\n",
       "    }\n",
       "</style>\n",
       "<table border=\"1\" class=\"dataframe\">\n",
       "  <thead>\n",
       "    <tr style=\"text-align: right;\">\n",
       "      <th></th>\n",
       "      <th>Wine</th>\n",
       "      <th>Alcohol</th>\n",
       "      <th>Malic.acid</th>\n",
       "      <th>Ash</th>\n",
       "      <th>Acl</th>\n",
       "      <th>Mg</th>\n",
       "      <th>Phenols</th>\n",
       "      <th>Flavanoids</th>\n",
       "      <th>Nonflavanoid.phenols</th>\n",
       "      <th>Proanth</th>\n",
       "      <th>Color.int</th>\n",
       "      <th>Hue</th>\n",
       "      <th>OD</th>\n",
       "      <th>Proline</th>\n",
       "    </tr>\n",
       "  </thead>\n",
       "  <tbody>\n",
       "    <tr>\n",
       "      <th>0</th>\n",
       "      <td>1</td>\n",
       "      <td>14.23</td>\n",
       "      <td>1.71</td>\n",
       "      <td>2.43</td>\n",
       "      <td>15.6</td>\n",
       "      <td>127</td>\n",
       "      <td>2.80</td>\n",
       "      <td>3.06</td>\n",
       "      <td>0.28</td>\n",
       "      <td>2.29</td>\n",
       "      <td>5.64</td>\n",
       "      <td>1.04</td>\n",
       "      <td>3.92</td>\n",
       "      <td>1065</td>\n",
       "    </tr>\n",
       "    <tr>\n",
       "      <th>1</th>\n",
       "      <td>1</td>\n",
       "      <td>13.20</td>\n",
       "      <td>1.78</td>\n",
       "      <td>2.14</td>\n",
       "      <td>11.2</td>\n",
       "      <td>100</td>\n",
       "      <td>2.65</td>\n",
       "      <td>2.76</td>\n",
       "      <td>0.26</td>\n",
       "      <td>1.28</td>\n",
       "      <td>4.38</td>\n",
       "      <td>1.05</td>\n",
       "      <td>3.40</td>\n",
       "      <td>1050</td>\n",
       "    </tr>\n",
       "    <tr>\n",
       "      <th>2</th>\n",
       "      <td>1</td>\n",
       "      <td>13.16</td>\n",
       "      <td>2.36</td>\n",
       "      <td>2.67</td>\n",
       "      <td>18.6</td>\n",
       "      <td>101</td>\n",
       "      <td>2.80</td>\n",
       "      <td>3.24</td>\n",
       "      <td>0.30</td>\n",
       "      <td>2.81</td>\n",
       "      <td>5.68</td>\n",
       "      <td>1.03</td>\n",
       "      <td>3.17</td>\n",
       "      <td>1185</td>\n",
       "    </tr>\n",
       "    <tr>\n",
       "      <th>3</th>\n",
       "      <td>1</td>\n",
       "      <td>14.37</td>\n",
       "      <td>1.95</td>\n",
       "      <td>2.50</td>\n",
       "      <td>16.8</td>\n",
       "      <td>113</td>\n",
       "      <td>3.85</td>\n",
       "      <td>3.49</td>\n",
       "      <td>0.24</td>\n",
       "      <td>2.18</td>\n",
       "      <td>7.80</td>\n",
       "      <td>0.86</td>\n",
       "      <td>3.45</td>\n",
       "      <td>1480</td>\n",
       "    </tr>\n",
       "    <tr>\n",
       "      <th>4</th>\n",
       "      <td>1</td>\n",
       "      <td>13.24</td>\n",
       "      <td>2.59</td>\n",
       "      <td>2.87</td>\n",
       "      <td>21.0</td>\n",
       "      <td>118</td>\n",
       "      <td>2.80</td>\n",
       "      <td>2.69</td>\n",
       "      <td>0.39</td>\n",
       "      <td>1.82</td>\n",
       "      <td>4.32</td>\n",
       "      <td>1.04</td>\n",
       "      <td>2.93</td>\n",
       "      <td>735</td>\n",
       "    </tr>\n",
       "  </tbody>\n",
       "</table>\n",
       "</div>"
      ],
      "text/plain": [
       "   Wine  Alcohol  Malic.acid   Ash   Acl   Mg  Phenols  Flavanoids  \\\n",
       "0     1    14.23        1.71  2.43  15.6  127     2.80        3.06   \n",
       "1     1    13.20        1.78  2.14  11.2  100     2.65        2.76   \n",
       "2     1    13.16        2.36  2.67  18.6  101     2.80        3.24   \n",
       "3     1    14.37        1.95  2.50  16.8  113     3.85        3.49   \n",
       "4     1    13.24        2.59  2.87  21.0  118     2.80        2.69   \n",
       "\n",
       "   Nonflavanoid.phenols  Proanth  Color.int   Hue    OD  Proline  \n",
       "0                  0.28     2.29       5.64  1.04  3.92     1065  \n",
       "1                  0.26     1.28       4.38  1.05  3.40     1050  \n",
       "2                  0.30     2.81       5.68  1.03  3.17     1185  \n",
       "3                  0.24     2.18       7.80  0.86  3.45     1480  \n",
       "4                  0.39     1.82       4.32  1.04  2.93      735  "
      ]
     },
     "execution_count": 2,
     "metadata": {},
     "output_type": "execute_result"
    }
   ],
   "source": [
    "data = pd.read_csv('wine.data.csv')\n",
    "data.head()"
   ]
  },
  {
   "cell_type": "code",
   "execution_count": 3,
   "metadata": {},
   "outputs": [],
   "source": [
    "X = data.drop('Wine',axis=1)\n",
    "y = data['Wine']"
   ]
  },
  {
   "cell_type": "markdown",
   "metadata": {},
   "source": [
    "### The preprocessing phase: splitting and scaling the data"
   ]
  },
  {
   "cell_type": "code",
   "execution_count": 4,
   "metadata": {},
   "outputs": [],
   "source": [
    "X_train, X_test, y_train, y_test = train_test_split(X, y, test_size=0.33, stratify=y)"
   ]
  },
  {
   "cell_type": "code",
   "execution_count": 5,
   "metadata": {},
   "outputs": [
    {
     "name": "stdout",
     "output_type": "stream",
     "text": [
      "StandardScaler()\n",
      "[1.30101681e+01 2.31941176e+00 2.38638655e+00 1.97798319e+01\n",
      " 1.00159664e+02 2.33016807e+00 2.07302521e+00 3.65210084e-01\n",
      " 1.63957983e+00 5.14176470e+00 9.63781513e-01 2.63529412e+00\n",
      " 7.48084034e+02]\n",
      "[[ 0.35803992 -0.57521573 -0.85076375 -0.79916448 -0.41224115  0.10970435\n",
      "   0.11259045 -0.78643359 -0.46812628 -0.49735932  0.23957375  0.19483827\n",
      "   1.727435  ]\n",
      " [-0.93906324 -0.56561939 -0.91982302 -0.22419124 -1.34920397 -1.06852832\n",
      "  -0.04141258  0.03956462 -0.01548648 -0.7268909   0.15434423  0.77339734\n",
      "  -0.76599453]\n",
      " [-0.7167027  -0.75754613 -0.33281924  0.4945253  -0.94764847  0.6438365\n",
      "   1.03660863  0.20476426  0.21083343 -0.50153262 -1.16671343  0.29608611\n",
      "  -1.27433242]\n",
      " [ 0.32097983  1.88144653 -0.43640815  0.06329537  1.32783267 -1.16278694\n",
      "  -1.33118795  0.53516355 -0.46812628  2.11095402 -1.59286107 -1.55530291\n",
      "   0.27963721]\n",
      " [-0.88964978 -0.87270217 -1.4032379  -1.08665109 -1.01457439  0.34535089\n",
      "   0.41097132 -0.62123395  0.21083343 -0.93555596  1.13448378  0.15144634\n",
      "  -1.02981546]\n",
      " [ 0.77805427  0.74907877  0.59948087 -1.31664038  1.06012901  0.58099742\n",
      "   0.92110636 -1.6124318   0.03301065 -0.01742967 -0.01611483  1.0482129\n",
      "   0.31181049]\n",
      " [-1.44555113  0.5475557  -0.53999705 -0.51167786  0.79242534 -0.95855994\n",
      "  -0.72480102  0.53516355 -1.11475457 -1.0398885  -0.01611483 -0.16676114\n",
      "  -0.79816781]\n",
      " [ 1.69220316  1.21929928 -0.36734888 -1.08665109  0.12316618  1.44503472\n",
      "   1.05585901 -0.78643359  0.88979313 -0.10089569  0.32480328  1.16392471\n",
      "   1.01962275]\n",
      " [-1.14907041 -1.14139961  0.4268327   1.21324184 -1.4830558  -0.51868641\n",
      "  -0.4745461   0.28736408 -0.38729774 -1.22768706  1.47540189  0.12251839\n",
      "  -0.37991512]\n",
      " [ 1.49454935  1.60315276  0.4268327  -1.89161362  1.86324     1.0522905\n",
      "   0.93073154 -1.36463234  0.71197035 -0.01742967 -0.31441817  1.2941005\n",
      "   0.03833758]\n",
      " [-1.71732513 -0.31611463 -0.36734888 -0.51167786 -0.14453748  1.08371003\n",
      "   0.17996678 -1.6124318  -0.46812628 -0.78949042  0.83618044  0.46965383\n",
      "  -1.29685372]\n",
      " [ 1.48219598  1.65113445  0.18512526 -0.2529399   0.72549943  0.81664396\n",
      "   0.55534916 -0.53863413 -0.62978335  0.04099655 -0.3996477   1.00482097\n",
      "   1.06788268]\n",
      " [ 0.938648   -0.40248166  1.01383648 -0.77041581  0.99320309  1.0522905\n",
      "   0.69010181  0.20476426  0.06534206  0.48336649  0.70833615  0.4262619\n",
      "   2.01699456]\n",
      " [-0.61787579 -1.0358399  -0.47093778 -0.65542117 -1.01457439 -0.51868641\n",
      "  -1.43706504  1.9393605  -0.62978335  0.12863588 -0.91102485 -1.62762279\n",
      "  -0.31556855]\n",
      " [ 0.61746055 -0.49844503  0.91024758 -0.22419124  0.65857351  0.03115551\n",
      "   0.43984689 -0.62123395 -0.16097784 -0.39302679  0.58049186  0.33947804\n",
      "   1.1161426 ]\n",
      " [ 0.27156637  0.94100551 -0.36734888 -0.36793455 -0.14453748 -0.83288179\n",
      "  -1.1964353   2.02196032  0.3724905   2.24449966 -1.72070536 -1.62762279\n",
      "  -0.23513534]\n",
      " [ 0.34568655 -0.3353073   1.01383648 -0.8566618   0.12316618  1.0522905\n",
      "   1.11361014 -0.45603431  0.03301065  0.35816745  0.45264757  0.29608611\n",
      "   1.67917508]\n",
      " [ 0.91394127 -0.56561939  0.08153636 -1.08665109 -0.74687073  0.42389973\n",
      "   0.66122624 -0.62123395  0.27549626  0.1912354   0.79356568  0.38286997\n",
      "   1.8400415 ]\n",
      " [-0.59316906  3.06179598  0.87571794  1.50072845 -0.27838931 -0.84859156\n",
      "  -1.41781466  2.18715996 -0.87226896 -0.05916268 -0.61272151 -1.36727121\n",
      "  -0.74990789]\n",
      " [ 1.50690271 -0.58481206  0.15059563 -1.20164574  1.79631408  0.73809512\n",
      "   0.94998192 -0.70383377  1.05145021  0.20792861  0.32480328  1.85819559\n",
      "   1.01962275]\n",
      " [-1.44555113 -1.37171169  0.66854014 -0.51167786 -0.41224115 -0.20449103\n",
      "   0.13184083 -1.19943269  1.14844445 -0.87295644 -0.7405658   0.64322155\n",
      "  -0.73382125]\n",
      " [ 0.04920583  3.34008975 -0.88529339  0.4945253  -0.94764847  0.45531927\n",
      "   0.55534916 -0.53863413  0.5988104  -1.060755   -0.99625438  0.67214951\n",
      "  -1.18424723]\n",
      " [ 1.70455653 -0.43127067  0.2196549  -1.48913235 -0.27838931  0.26680204\n",
      "   0.4302217  -0.53863413  0.55031328  0.04516985  0.23957375  1.36642039\n",
      "   1.74352165]\n",
      " [ 0.92629463 -0.75754613  1.08289575 -0.08044794  2.13094366  0.97374165\n",
      "   0.64197586  1.11336229 -0.46812628  0.10776937  1.21971331  0.52750974\n",
      "   1.56656858]\n",
      " [ 0.38274664  0.88342749 -0.02205254  0.4945253  -0.54609298 -0.62865479\n",
      "  -1.26381163  0.70036319 -0.62978335  1.36810638 -1.76332012 -1.46851905\n",
      "  -0.31556855]\n",
      " [ 0.76570091 -0.48884869  1.08289575 -0.74166715  0.79242534  0.81664396\n",
      "   0.80560408 -0.53863413 -0.2903035   0.90069663  1.3475576   0.35394202\n",
      "   1.80786821]\n",
      " [ 0.46922019 -0.52723404  0.80665868 -1.05790243 -0.47916706  0.81664396\n",
      "   0.83447965 -0.20823484 -0.30646921 -0.14262871 -0.18657388  0.84571723\n",
      "   1.43787545]\n",
      " [-0.84023633 -1.17018862 -0.36734888 -1.08665109  0.05624027 -0.44013756\n",
      "  -0.94618038  2.18715996 -1.98770277 -0.78114381  1.21971331 -1.39619916\n",
      "  -0.2190487 ]\n",
      " [-1.24789732 -0.7767388   0.116066    0.6382686  -0.94764847 -1.38272371\n",
      "  -0.79217735  1.11336229 -0.01548648 -0.64342487  0.36741804  0.02127055\n",
      "  -0.95903424]\n",
      " [-0.97612333 -0.98785822 -1.54135643 -0.22419124 -0.54609298  0.04686528\n",
      "  -0.03178739  0.20476426  0.71197035 -1.01902199 -0.44226246  0.55643769\n",
      "  -1.40302556]\n",
      " [ 0.49392692  1.45920771 -0.91982302 -0.28168857 -0.67994481  0.1882532\n",
      "   0.58422473 -0.78643359 -0.25797209 -0.35964038 -0.22918864  0.52750974\n",
      "   0.9231029 ]\n",
      " [ 1.14865517 -0.56561939 -0.40187851 -0.68416983  0.52472168  0.86377327\n",
      "   1.41199101 -0.37343448  0.71197035  1.56842484  0.66572139  0.67214951\n",
      "   1.64700179]\n",
      " [ 1.34630899 -0.28732562  0.04700673 -0.28168857  0.1900921   0.65954627\n",
      "   0.81522927 -0.37343448  1.19694157  0.44163348  0.45264757  0.16591032\n",
      "   1.00353611]\n",
      " [-0.88964978  0.48997767 -0.57452668 -0.51167786 -0.81379664  0.1882532\n",
      "   0.17034159 -0.95163323  0.56647899 -1.24855356  0.79356568  0.96142904\n",
      "  -1.47380679]\n",
      " [ 0.19744619  2.7547132  -0.22923034  0.6382686  -0.47916706 -0.9271404\n",
      "  -1.38893909  2.02196032 -0.14481213  1.15109471 -1.5502463  -1.67101472\n",
      "  -0.07426892]\n",
      " [-0.93906324  1.49759305 -0.64358595 -0.36793455  0.79242534 -1.49269209\n",
      "  -1.24456125 -0.62123395 -0.80760613  1.28046705 -1.33717249 -0.91888793\n",
      "   0.34398378]\n",
      " [-0.53140224 -0.98785822 -0.98888229  0.06329537  0.1900921  -1.3355944\n",
      "  -1.43706504  1.36116176 -0.38729774  1.02589567 -1.63547583 -1.56976688\n",
      "  -0.34774183]\n",
      " [ 0.23450628 -0.5176377  -0.85076375 -2.46658685 -0.01068565  0.50244858\n",
      "   0.66122624 -0.86903341 -0.58128623 -0.31790736  0.36741804  1.10606881\n",
      "   0.97136282]\n",
      " [ 1.24748208 -0.61360107 -0.60905632 -1.08665109 -0.27838931  0.50244858\n",
      "   0.2473431  -0.86903341  0.55031328 -0.18436172  0.32480328  1.38088436\n",
      "   0.9231029 ]\n",
      " [-0.18550807 -0.93028019 -0.22923034 -0.51167786  1.4616845  -1.28846509\n",
      "  -0.79217735 -1.28203252 -1.13092028 -0.4347598  -0.86841009 -1.94583028\n",
      "  -0.37991512]\n",
      " [-0.38316188  1.18091394 -0.09111181  0.4945253   0.39086985 -0.98997948\n",
      "  -0.8403033  -1.6124318  -1.29257735 -0.05916268 -0.78318056 -1.94583028\n",
      "  -0.47643497]\n",
      " [ 0.02449911 -1.36211536 -2.33553801 -1.08665109 -0.94764847 -0.59723525\n",
      "  -0.04141258 -1.03423305 -0.2903035  -0.22609473  0.96402473 -0.22461705\n",
      "  -1.14563929]\n",
      " [ 0.62981391  0.81625313  1.15195501  1.06949853 -0.2114634  -1.22562601\n",
      "  -1.49481617  1.11336229 -1.76138286 -0.33042727 -0.31441817 -0.83210407\n",
      "  -0.73382125]\n",
      " [-0.88964978 -0.68077543 -0.60905632  0.17829002  0.1900921  -1.93256562\n",
      "  -1.0135567   0.03956462 -0.2903035  -0.87295644 -0.24623455 -1.17923951\n",
      "   0.3922437 ]\n",
      " [-1.97674576 -1.51565675  0.39230307  0.35078199 -0.81379664  0.23538251\n",
      "  -0.06066296  0.45256372 -0.32263491 -0.86043654  0.58049186 -0.47050465\n",
      "  -1.01051149]\n",
      " [-0.72905606  2.02539159  1.18648465  1.93195838  0.12316618 -0.20449103\n",
      "   0.05483931  0.53516355  0.11383918 -1.27776667 -0.18657388  0.70107746\n",
      "  -1.23250715]\n",
      " [-1.29731077 -1.17978495 -0.29828961  0.35078199  0.05624027  1.64926172\n",
      "   0.0644645  -1.94283108  0.01684494 -0.80618362  0.11172946  0.71554144\n",
      "   0.44372096]\n",
      " [-0.24727489 -0.00903185  0.04700673  1.21324184 -0.14453748 -1.85401678\n",
      "  -0.94618038 -0.78643359 -1.30874306  0.23296841 -1.29455772 -1.84458244\n",
      "  -0.60512811]\n",
      " [-1.47025786 -0.81512415 -1.36870826  0.29328467 -0.94764847 -0.55010595\n",
      "  -0.45529572 -0.53863413 -0.17714355 -1.33201959 -0.05872959  1.00482097\n",
      "  -0.81425446]\n",
      " [ 0.59275382  1.21929928 -0.67811558 -0.08044794 -0.81379664 -1.11565763\n",
      "  -1.53331693  1.77416086 -1.22791452  0.23296841 -0.65533628 -1.17923951\n",
      "  -0.54078154]\n",
      " [ 0.81511436 -1.02624356 -1.6104157  -0.51167786 -0.41224115 -0.36158872\n",
      "  -0.27241712 -0.37343448 -1.47040013 -0.55995884  1.13448378 -0.253545\n",
      "  -0.37991512]\n",
      " [-1.24789732 -1.34292268 -1.33417863 -0.22419124 -0.94764847  0.14112389\n",
      "   0.17996678 -0.53863413 -0.33880062 -1.10248802  1.77370523  0.70107746\n",
      "  -1.51241473]\n",
      " [-0.93906324  2.30368536  0.5304216   0.35078199 -0.74687073 -1.49269209\n",
      "  -1.54294212  1.36116176 -1.35724018 -0.53909233 -0.91102485 -1.97475823\n",
      "  -0.09035556]\n",
      " [ 0.60510719  0.76827145  0.80665868  1.21324184  1.52861042 -1.46127255\n",
      "  -0.48417129 -1.19943269 -0.62978335  1.4432258  -1.59286107 -1.9313663\n",
      "  -0.79816781]\n",
      " [-1.66791167 -0.42167434 -1.6104157  -1.08665109 -0.2114634  -1.1313674\n",
      "  -0.48417129 -0.20823484 -0.79144043 -0.55995884  1.13448378 -0.71639226\n",
      "  -1.02981546]\n",
      " [ 1.42042917  0.18289489  0.3232438   0.06329537 -0.61301889 -1.02139902\n",
      "  -1.32156276  0.61776337 -0.64594906  1.90228895 -1.46501678 -1.33834326\n",
      "  -0.28339527]\n",
      " [ 1.09924172 -0.61360107 -0.91982302 -1.08665109  0.05624027  1.20938819\n",
      "   1.26761317 -1.28203252  0.8089646   0.39990047 -0.22918864  1.00482097\n",
      "   0.76223647]\n",
      " [-0.60552242  0.1061242  -0.74717485  0.35078199 -0.81379664  0.34535089\n",
      "   0.18959197 -0.86903341 -0.67828048 -1.31115308 -0.27180341  0.20930225\n",
      "  -1.36120029]\n",
      " [-0.39551525 -0.75754613 -0.43640815  0.264536   -1.34920397 -1.49269209\n",
      "  -0.59004837  1.77416086 -0.03165218 -0.87295644 -0.01611483 -0.83210407\n",
      "  -0.81425446]]\n"
     ]
    }
   ],
   "source": [
    "scaler = StandardScaler()\n",
    "print(scaler.fit(X_train))\n",
    "print(scaler.mean_)\n",
    "print(scaler.transform(X_test))"
   ]
  },
  {
   "cell_type": "markdown",
   "metadata": {},
   "source": [
    "### Building and running the predictor"
   ]
  },
  {
   "cell_type": "code",
   "execution_count": 6,
   "metadata": {},
   "outputs": [],
   "source": [
    "clf = MLPClassifier(hidden_layer_sizes = (13,13,13), max_iter=500)"
   ]
  },
  {
   "cell_type": "code",
   "execution_count": 7,
   "metadata": {},
   "outputs": [
    {
     "data": {
      "text/plain": [
       "MLPClassifier(hidden_layer_sizes=(13, 13, 13), max_iter=500)"
      ]
     },
     "execution_count": 7,
     "metadata": {},
     "output_type": "execute_result"
    }
   ],
   "source": [
    "clf.fit(X_train, y_train)"
   ]
  },
  {
   "cell_type": "code",
   "execution_count": 8,
   "metadata": {},
   "outputs": [
    {
     "name": "stdout",
     "output_type": "stream",
     "text": [
      "[1 2 2 3 2 1 2 1 2 2 2 1 1 3 1 3 1 1 3 1 2 2 1 1 3 1 1 2 2 2 1 1 1 2 3 3 3\n",
      " 1 1 2 3 2 3 1 2 2 1 3 2 3 2 2 3 3 2 3 1 2 2]\n"
     ]
    }
   ],
   "source": [
    "predictions = clf.predict(X_test)\n",
    "print(predictions)"
   ]
  },
  {
   "cell_type": "markdown",
   "metadata": {},
   "source": [
    "### Classification errors and the confusion matrix"
   ]
  },
  {
   "cell_type": "code",
   "execution_count": 9,
   "metadata": {},
   "outputs": [],
   "source": [
    "cm = confusion_matrix(y_test, predictions)"
   ]
  },
  {
   "cell_type": "code",
   "execution_count": 10,
   "metadata": {},
   "outputs": [],
   "source": [
    "accuracy = round(accuracy_score(y_test, predictions),2)"
   ]
  },
  {
   "cell_type": "code",
   "execution_count": 11,
   "metadata": {},
   "outputs": [
    {
     "data": {
      "image/png": "[encoded data removed]",
      "text/plain": [
       "<Figure size 360x360 with 2 Axes>"
      ]
     },
     "metadata": {
      "needs_background": "light"
     },
     "output_type": "display_data"
    }
   ],
   "source": [
    "plt.figure(figsize=(5,5))\n",
    "sns.heatmap(cm, annot=True, fmt=\".2f\", linewidths=.5, square = True, cmap = 'Greens_r');\n",
    "plt.ylabel('Actual label');\n",
    "plt.xlabel('Predicted label');\n",
    "all_sample_title = 'Accuracy Score: {0}'.format(accuracy)\n",
    "plt.title(all_sample_title, size = 15);"
   ]
  },
  {
   "cell_type": "code",
   "execution_count": 12,
   "metadata": {},
   "outputs": [
    {
     "name": "stdout",
     "output_type": "stream",
     "text": [
      "              precision    recall  f1-score   support\n",
      "\n",
      "           1       0.90      0.95      0.93        20\n",
      "           2       0.91      0.91      0.91        23\n",
      "           3       1.00      0.94      0.97        16\n",
      "\n",
      "    accuracy                           0.93        59\n",
      "   macro avg       0.94      0.93      0.94        59\n",
      "weighted avg       0.93      0.93      0.93        59\n",
      "\n"
     ]
    }
   ],
   "source": [
    "print(classification_report(y_test,predictions))"
   ]
  },
  {
   "cell_type": "markdown",
   "metadata": {},
   "source": [
    "### Experimenting with parameters"
   ]
  },
  {
   "cell_type": "code",
   "execution_count": 13,
   "metadata": {},
   "outputs": [],
   "source": [
    "## Varying test data size\n",
    "\n",
    "accuracies = []\n",
    "test_size = np.arange(0.1,1,0.1)\n",
    "for i in test_size:\n",
    "    X_train, X_test, y_train, y_test = train_test_split(X, y, test_size=i, stratify=y)\n",
    "    clf.fit(X_train, y_train)\n",
    "    predictions = clf.predict(X_test)\n",
    "    accuracy = round(accuracy_score(y_test, predictions),2)\n",
    "    accuracies.append(accuracy)"
   ]
  },
  {
   "cell_type": "code",
   "execution_count": 14,
   "metadata": {},
   "outputs": [
    {
     "data": {
      "image/png": "[encoded data removed]",
      "text/plain": [
       "<Figure size 432x288 with 1 Axes>"
      ]
     },
     "metadata": {
      "needs_background": "light"
     },
     "output_type": "display_data"
    }
   ],
   "source": [
    "plt.plot(test_size,accuracies)\n",
    "plt.ylabel('Accuracy');\n",
    "plt.xlabel('size of the test set');"
   ]
  },
  {
   "cell_type": "markdown",
   "metadata": {},
   "source": [
    "Make the same diagram as before but now in abscissa put the size of the hidden layers. Test sizes between 5 and 50 by steps of 5."
   ]
  },
  {
   "cell_type": "code",
   "execution_count": 15,
   "metadata": {},
   "outputs": [
    {
     "data": {
      "image/png": "[encoded data removed]",
      "text/plain": [
       "<Figure size 432x288 with 1 Axes>"
      ]
     },
     "metadata": {
      "needs_background": "light"
     },
     "output_type": "display_data"
    }
   ],
   "source": [
    "layers = np.arange(5,50,5)\n",
    "accuracies = []\n",
    "X_train, X_test, y_train, y_test = train_test_split(X, y, test_size=0.33, stratify=y)\n",
    "for i in layers:\n",
    "    clf = MLPClassifier(hidden_layer_sizes = (i,i,i), max_iter=500)\n",
    "    clf.fit(X_train, y_train)\n",
    "    predictions = clf.predict(X_test)\n",
    "    accuracy = round(accuracy_score(y_test, predictions),2)\n",
    "    accuracies.append(accuracy)\n",
    "plt.plot(layers,accuracies)\n",
    "plt.ylabel('Accuracy of Model ');\n",
    "plt.xlabel('layers of model');"
   ]
  },
  {
   "cell_type": "markdown",
   "metadata": {},
   "source": [
    "Make the same diagram as before but now in abscissa put the number of\n",
    "iterations (all other parameters are as in the initial version)."
   ]
  },
  {
   "cell_type": "code",
   "execution_count": 16,
   "metadata": {},
   "outputs": [
    {
     "data": {
      "image/png": "[encoded data removed]",
      "text/plain": [
       "<Figure size 432x288 with 1 Axes>"
      ]
     },
     "metadata": {
      "needs_background": "light"
     },
     "output_type": "display_data"
    }
   ],
   "source": [
    "iterations = np.arange(100,600,100)\n",
    "accuracies = []\n",
    "X_train, X_test, y_train, y_test = train_test_split(X, y, test_size=0.33, stratify=y)\n",
    "clf = MLPClassifier(hidden_layer_sizes = (13,13,13), max_iter=i)\n",
    "for i in iterations:\n",
    "    clf.fit(X_train, y_train)\n",
    "    predictions = clf.predict(X_test)\n",
    "    accuracy = round(accuracy_score(y_test, predictions),2)\n",
    "    accuracies.append(accuracy)\n",
    "plt.plot(iterations,accuracies)\n",
    "plt.ylabel('Accuracy of model');\n",
    "plt.xlabel('Iterations of model');"
   ]
  },
  {
   "cell_type": "markdown",
   "metadata": {},
   "source": [
    "##### Make considerations about the experiments you just made."
   ]
  },
  {
   "cell_type": "markdown",
   "metadata": {},
   "source": [
    "The accuracy of model is best when the size of test is 0.33\n",
    "The accuracy of model is best when the number of neurons are around 15 to 25\n",
    "The accuracy of model is best when the iteration of models are 500"
   ]
  },
  {
   "cell_type": "code",
   "execution_count": null,
   "metadata": {},
   "outputs": [],
   "source": []
  }
 ],
 "metadata": {
  "kernelspec": {
   "display_name": "Python 3",
   "language": "python",
   "name": "python3"
  },
  "language_info": {
   "codemirror_mode": {
    "name": "ipython",
    "version": 3
   },
   "file_extension": ".py",
   "mimetype": "text/x-python",
   "name": "python",
   "nbconvert_exporter": "python",
   "pygments_lexer": "ipython3",
   "version": "3.7.6"
  }
 },
 "nbformat": 4,
 "nbformat_minor": 4
}
